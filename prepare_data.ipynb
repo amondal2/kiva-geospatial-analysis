{
 "cells": [
  {
   "cell_type": "markdown",
   "metadata": {},
   "source": [
    "I'll be using Pandas to turn Kiva's loans.csv into a suitable format for importing into a d3 html document. I'm not sure of the structure of the data beforehand but I know that we will need it in a format that maps the country code with the number of loans for that country. Let's get started. "
   ]
  },
  {
   "cell_type": "code",
   "execution_count": 2,
   "metadata": {
    "collapsed": false
   },
   "outputs": [
    {
     "name": "stdout",
     "output_type": "stream",
     "text": [
      "Index(['LOAN_ID', 'LOAN_NAME', 'ORIGINAL_LANGUAGE', 'DESCRIPTION',\n",
      "       'DESCRIPTION_TRANSLATED', 'FUNDED_AMOUNT', 'LOAN_AMOUNT', 'STATUS',\n",
      "       'IMAGE_ID', 'VIDEO_ID', 'ACTIVITY_NAME', 'SECTOR_NAME', 'LOAN_USE',\n",
      "       'COUNTRY_CODE', 'COUNTRY_NAME', 'TOWN_NAME', 'CURRENCY_POLICY',\n",
      "       'CURRENCY_EXCHANGE_COVERAGE_RATE', 'CURRENCY', 'PARTNER_ID',\n",
      "       'POSTED_TIME', 'PLANNED_EXPIRATION_TIME', 'DISBURSE_TIME',\n",
      "       'RAISED_TIME', 'LENDER_TERM', 'NUM_LENDERS_TOTAL',\n",
      "       'NUM_JOURNAL_ENTRIES', 'NUM_BULK_ENTRIES', 'TAGS', 'BORROWER_NAMES',\n",
      "       'BORROWER_GENDERS', 'BORROWER_PICTURED', 'REPAYMENT_INTERVAL',\n",
      "       'DISTRIBUTION_MODEL'],\n",
      "      dtype='object')\n",
      "(1419607, 34)\n"
     ]
    }
   ],
   "source": [
    "import pandas as pd\n",
    "\n",
    "# load the data\n",
    "df = pd.read_csv('loans.csv')\n",
    "print(df.columns)\n",
    "print(df.shape)"
   ]
  },
  {
   "cell_type": "markdown",
   "metadata": {
    "collapsed": true
   },
   "source": [
    "Nice, the dataset already contains a country code for each loan. All we need to do is group the rows by the country code and output it to a new csv. "
   ]
  },
  {
   "cell_type": "code",
   "execution_count": 5,
   "metadata": {
    "collapsed": false
   },
   "outputs": [
    {
     "name": "stdout",
     "output_type": "stream",
     "text": [
      "PH    285336\n",
      "KE    143699\n",
      "PE     86000\n",
      "KH     79701\n",
      "SV     64037\n",
      "UG     45882\n",
      "PK     45120\n",
      "TJ     43942\n",
      "NI     42519\n",
      "CO     33675\n",
      "EC     33471\n",
      "BO     25250\n",
      "PY     24787\n",
      "GH     22121\n",
      "VN     21839\n",
      "LB     20083\n",
      "NG     20015\n",
      "MX     19708\n",
      "TG     17106\n",
      "RW     16774\n",
      "WS     16435\n",
      "TZ     16110\n",
      "SL     15576\n",
      "HN     15130\n",
      "IN     15104\n",
      "AM     13952\n",
      "PS     13422\n",
      "ML     13352\n",
      "GT     12864\n",
      "SN     12107\n",
      "       ...  \n",
      "SB       903\n",
      "CL       892\n",
      "MD       732\n",
      "LS       648\n",
      "ZA       633\n",
      "BA       608\n",
      "BR       482\n",
      "IL       464\n",
      "BG       296\n",
      "SR       292\n",
      "CI       283\n",
      "LK       264\n",
      "TH       247\n",
      "SO       227\n",
      "BZ       218\n",
      "PA       196\n",
      "CN       134\n",
      "PR        80\n",
      "TD        61\n",
      "VC        16\n",
      "GZ         8\n",
      "VU         4\n",
      "GU         4\n",
      "BT         2\n",
      "VI         2\n",
      "UY         1\n",
      "PG         1\n",
      "CA         1\n",
      "MR         1\n",
      "BW         1\n",
      "Name: COUNTRY_CODE, dtype: int64\n"
     ]
    }
   ],
   "source": [
    "df_counts = df.COUNTRY_CODE.value_counts()\n",
    "print(df_counts)"
   ]
  },
  {
   "cell_type": "markdown",
   "metadata": {},
   "source": [
    "Super easy! Let's export this to a new csv and then move to the mapping in d3. ✨"
   ]
  },
  {
   "cell_type": "code",
   "execution_count": 6,
   "metadata": {
    "collapsed": true
   },
   "outputs": [],
   "source": [
    "df_counts.to_csv('loans_by_country.csv')"
   ]
  }
 ],
 "metadata": {
  "kernelspec": {
   "display_name": "Python 3",
   "language": "python",
   "name": "python3"
  },
  "language_info": {
   "codemirror_mode": {
    "name": "ipython",
    "version": 3
   },
   "file_extension": ".py",
   "mimetype": "text/x-python",
   "name": "python",
   "nbconvert_exporter": "python",
   "pygments_lexer": "ipython3",
   "version": "3.6.0"
  }
 },
 "nbformat": 4,
 "nbformat_minor": 2
}
