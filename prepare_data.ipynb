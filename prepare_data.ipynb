{
 "cells": [
  {
   "cell_type": "markdown",
   "metadata": {},
   "source": [
    "I'll be using Pandas to turn Kiva's loans.csv into a suitable format for importing into a d3 html document. I'm not sure of the structure of the data beforehand but I know that we will need it in a format that maps the country code with the number of loans for that country. Let's get started. "
   ]
  },
  {
   "cell_type": "code",
   "execution_count": 2,
   "metadata": {
    "collapsed": false
   },
   "outputs": [
    {
     "name": "stdout",
     "output_type": "stream",
     "text": [
      "Index(['LOAN_ID', 'LOAN_NAME', 'ORIGINAL_LANGUAGE', 'DESCRIPTION',\n",
      "       'DESCRIPTION_TRANSLATED', 'FUNDED_AMOUNT', 'LOAN_AMOUNT', 'STATUS',\n",
      "       'IMAGE_ID', 'VIDEO_ID', 'ACTIVITY_NAME', 'SECTOR_NAME', 'LOAN_USE',\n",
      "       'COUNTRY_CODE', 'COUNTRY_NAME', 'TOWN_NAME', 'CURRENCY_POLICY',\n",
      "       'CURRENCY_EXCHANGE_COVERAGE_RATE', 'CURRENCY', 'PARTNER_ID',\n",
      "       'POSTED_TIME', 'PLANNED_EXPIRATION_TIME', 'DISBURSE_TIME',\n",
      "       'RAISED_TIME', 'LENDER_TERM', 'NUM_LENDERS_TOTAL',\n",
      "       'NUM_JOURNAL_ENTRIES', 'NUM_BULK_ENTRIES', 'TAGS', 'BORROWER_NAMES',\n",
      "       'BORROWER_GENDERS', 'BORROWER_PICTURED', 'REPAYMENT_INTERVAL',\n",
      "       'DISTRIBUTION_MODEL'],\n",
      "      dtype='object')\n",
      "(1419607, 34)\n"
     ]
    }
   ],
   "source": [
    "import pandas as pd\n",
    "\n",
    "# load the data\n",
    "df = pd.read_csv('loans.csv')\n",
    "print(df.columns)\n",
    "print(df.shape)"
   ]
  },
  {
   "cell_type": "markdown",
   "metadata": {
    "collapsed": true
   },
   "source": [
    "Nice, the dataset already contains a country code for each loan. All we need to do is group the rows by the country code and output it to a new csv. "
   ]
  },
  {
   "cell_type": "code",
   "execution_count": 7,
   "metadata": {
    "collapsed": false
   },
   "outputs": [
    {
     "name": "stdout",
     "output_type": "stream",
     "text": [
      "Philippines                         285336\n",
      "Kenya                               143699\n",
      "Peru                                 86000\n",
      "Cambodia                             79701\n",
      "El Salvador                          64037\n",
      "Uganda                               45882\n",
      "Pakistan                             45120\n",
      "Tajikistan                           43942\n",
      "Nicaragua                            42519\n",
      "Colombia                             33675\n",
      "Ecuador                              33471\n",
      "Bolivia                              25250\n",
      "Paraguay                             24787\n",
      "Ghana                                22121\n",
      "Vietnam                              21839\n",
      "Lebanon                              20083\n",
      "Nigeria                              20015\n",
      "Mexico                               19708\n",
      "Togo                                 17106\n",
      "Rwanda                               16774\n",
      "Samoa                                16435\n",
      "Tanzania                             16110\n",
      "Sierra Leone                         15576\n",
      "Honduras                             15130\n",
      "India                                15104\n",
      "Armenia                              13952\n",
      "Palestine                            13422\n",
      "Mali                                 13352\n",
      "Guatemala                            12864\n",
      "Senegal                              12107\n",
      "                                     ...  \n",
      "Chile                                  892\n",
      "Moldova                                732\n",
      "Lesotho                                648\n",
      "South Africa                           633\n",
      "Bosnia and Herzegovina                 608\n",
      "Brazil                                 482\n",
      "Israel                                 464\n",
      "Bulgaria                               296\n",
      "Suriname                               292\n",
      "Cote D'Ivoire                          283\n",
      "Sri Lanka                              264\n",
      "Thailand                               247\n",
      "Somalia                                227\n",
      "Belize                                 218\n",
      "Panama                                 196\n",
      "China                                  134\n",
      "Puerto Rico                             80\n",
      "Chad                                    61\n",
      "Saint Vincent and the Grenadines        16\n",
      "Namibia                                  9\n",
      "Gaza                                     8\n",
      "Guam                                     4\n",
      "Vanuatu                                  4\n",
      "Bhutan                                   2\n",
      "Virgin Islands                           2\n",
      "Canada                                   1\n",
      "Uruguay                                  1\n",
      "Papua New Guinea                         1\n",
      "Botswana                                 1\n",
      "Mauritania                               1\n",
      "Name: COUNTRY_NAME, dtype: int64\n"
     ]
    }
   ],
   "source": [
    "df_counts = df.COUNTRY_NAME.value_counts()\n",
    "print(df_counts)"
   ]
  },
  {
   "cell_type": "markdown",
   "metadata": {},
   "source": [
    "Super easy! Let's export this to a new csv and then move to the mapping in d3. ✨"
   ]
  },
  {
   "cell_type": "code",
   "execution_count": 8,
   "metadata": {
    "collapsed": true
   },
   "outputs": [],
   "source": [
    "df_counts.to_csv('loans_by_country.csv')"
   ]
  },
  {
   "cell_type": "code",
   "execution_count": null,
   "metadata": {
    "collapsed": true
   },
   "outputs": [],
   "source": []
  }
 ],
 "metadata": {
  "kernelspec": {
   "display_name": "Python 3",
   "language": "python",
   "name": "python3"
  },
  "language_info": {
   "codemirror_mode": {
    "name": "ipython",
    "version": 3
   },
   "file_extension": ".py",
   "mimetype": "text/x-python",
   "name": "python",
   "nbconvert_exporter": "python",
   "pygments_lexer": "ipython3",
   "version": "3.6.0"
  }
 },
 "nbformat": 4,
 "nbformat_minor": 2
}
